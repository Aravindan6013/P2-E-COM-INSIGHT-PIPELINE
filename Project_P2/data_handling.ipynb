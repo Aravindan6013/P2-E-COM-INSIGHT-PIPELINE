{
 "cells": [
  {
   "cell_type": "code",
   "execution_count": 2,
   "id": "33e2ae0d",
   "metadata": {},
   "outputs": [
    {
     "name": "stdout",
     "output_type": "stream",
     "text": [
      "Index(['Order_id', 'Customer_id', 'Customer_name', 'Product_id',\n",
      "       'Product_name', 'Product_category', 'Payment_type', 'Quantity_ordered',\n",
      "       'Price', 'Date_and_time_when_order_was_placed', 'Customer_country',\n",
      "       'Customer_city', 'Site_from_where_order_was_placed',\n",
      "       'Payment_transaction_confirmation_id', 'Payment_success_or_failure',\n",
      "       'Reason_for_payment_failure'],\n",
      "      dtype='object')\n"
     ]
    }
   ],
   "source": [
    "import pandas as pd\n",
    "df = pd.read_csv('raw_data.csv')\n",
    "print(df.columns)"
   ]
  },
  {
   "cell_type": "code",
   "execution_count": 3,
   "id": "b0694b11",
   "metadata": {},
   "outputs": [
    {
     "name": "stdout",
     "output_type": "stream",
     "text": [
      "Order_id                                object\n",
      "Customer_id                             object\n",
      "Customer_name                           object\n",
      "Product_id                              object\n",
      "Product_name                            object\n",
      "Product_category                        object\n",
      "Payment_type                            object\n",
      "Quantity_ordered                         int64\n",
      "Price                                  float64\n",
      "Date_and_time_when_order_was_placed     object\n",
      "Customer_country                        object\n",
      "Customer_city                           object\n",
      "Site_from_where_order_was_placed        object\n",
      "Payment_transaction_confirmation_id     object\n",
      "Payment_success_or_failure              object\n",
      "Reason_for_payment_failure              object\n",
      "dtype: object\n"
     ]
    }
   ],
   "source": [
    "import pandas as pd\n",
    "\n",
    "# Load the CSV file into a DataFrame\n",
    "df = pd.read_csv('raw_data.csv')\n",
    "\n",
    "# Print the schema: column names and data types\n",
    "print(df.dtypes)"
   ]
  },
  {
   "cell_type": "code",
   "execution_count": 2,
   "id": "f0cc61b8-ebfb-4394-ab72-4a873c4bd910",
   "metadata": {},
   "outputs": [
    {
     "name": "stdout",
     "output_type": "stream",
     "text": [
      "Order_id                                485\n",
      "Customer_id                             519\n",
      "Customer_name                           506\n",
      "Customer_city                           505\n",
      "Payment_transaction_confirmation_id     486\n",
      "Reason_for_payment_failure             6003\n",
      "dtype: int64\n"
     ]
    }
   ],
   "source": [
    "import pandas as pd\n",
    "\n",
    "# Example: Load your DataFrame from a CSV file\n",
    "df = pd.read_csv('transactions.csv')  # Replace 'your_file.csv' with your actual file\n",
    "\n",
    "# Count null values in each column\n",
    "null_counts = df.isnull().sum()  # Count null values in each column\n",
    "print(null_counts[null_counts > 0])  # Print columns with null values"
   ]
  },
  {
   "cell_type": "code",
   "execution_count": 4,
   "id": "3947f80e-c536-4b4d-9e4c-d94449dc4050",
   "metadata": {},
   "outputs": [
    {
     "name": "stdout",
     "output_type": "stream",
     "text": [
      "Series([], dtype: int64)\n"
     ]
    }
   ],
   "source": [
    "import pandas as pd\n",
    "\n",
    "# Example: Load your DataFrame from a CSV file\n",
    "df = pd.read_csv('transactions.csv')  # Replace 'your_file.csv' with your actual file\n",
    "\n",
    "# Count null values in each column\n",
    "null_counts = df.isnull().sum()  # Count null values in each column\n",
    "print(null_counts[null_counts > 0])  # Print columns with null values"
   ]
  },
  {
   "cell_type": "code",
   "execution_count": 10,
   "id": "7c4c380d-022d-4392-b0c7-d3886df40d84",
   "metadata": {},
   "outputs": [
    {
     "name": "stdout",
     "output_type": "stream",
     "text": [
      "Column 'Quantity_ordered' has 326 negative values.\n",
      "Column 'Price' has 73 negative values.\n"
     ]
    }
   ],
   "source": [
    "import pandas as pd\n",
    "\n",
    "# Load your DataFrame from a CSV file\n",
    "df = pd.read_csv('transactions.csv')  # Replace 'transactions.csv' with your actual file path\n",
    "\n",
    "# Select only numeric columns for checking negative values\n",
    "numeric_df = df.select_dtypes(include=['number'])\n",
    "\n",
    "# Count negative values in all numeric columns\n",
    "negative_counts = (numeric_df < 0).sum()  # Count of negative values for each column\n",
    "\n",
    "# Filter out columns with zero negative values\n",
    "negative_counts = negative_counts[negative_counts > 0]\n",
    "\n",
    "# Print the count of negative values along with the column names\n",
    "if not negative_counts.empty:\n",
    "    for column, count in negative_counts.items():\n",
    "        print(f\"Column '{column}' has {count} negative values.\")\n",
    "else:\n",
    "    print(\"No negative values found in the DataFrame.\")"
   ]
  },
  {
   "cell_type": "code",
   "execution_count": 5,
   "id": "2491d3ec-c69a-435f-9e6d-5ee47b4bcb94",
   "metadata": {},
   "outputs": [
    {
     "name": "stdout",
     "output_type": "stream",
     "text": [
      "No negative values found in the DataFrame.\n"
     ]
    }
   ],
   "source": [
    "import pandas as pd\n",
    "# Load your DataFrame from a CSV file\n",
    "df = pd.read_csv('transactions.csv')  # Replace 'transactions.csv' with your actual file path\n",
    "\n",
    "# Select only numeric columns for checking negative values\n",
    "numeric_df = df.select_dtypes(include=['number'])\n",
    "\n",
    "# Count negative values in all numeric columns\n",
    "negative_counts = (numeric_df < 0).sum()  # Count of negative values for each column\n",
    "\n",
    "# Filter out columns with zero negative values\n",
    "negative_counts = negative_counts[negative_counts > 0]\n",
    "\n",
    "# Print the count of negative values along with the column names\n",
    "if not negative_counts.empty:\n",
    "    for column, count in negative_counts.items():\n",
    "        print(f\"Column '{column}' has {count} negative values.\")\n",
    "else:\n",
    "    print(\"No negative values found in the DataFrame.\")"
   ]
  },
  {
   "cell_type": "code",
   "execution_count": 6,
   "id": "fecc567f-31a6-4c50-ae0e-4451b8abedc0",
   "metadata": {},
   "outputs": [
    {
     "name": "stdout",
     "output_type": "stream",
     "text": [
      "Number of rows with 'InvalidDate': 489\n"
     ]
    }
   ],
   "source": [
    "# Count the number of rows with 'InvalidDate'\n",
    "invalid_date_count = df['Date_and_time_when_order_was_placed'].value_counts().get('InvalidDate', 0)\n",
    "\n",
    "# Print the count\n",
    "print(f\"Number of rows with 'InvalidDate': {invalid_date_count}\")"
   ]
  },
  {
   "cell_type": "code",
   "execution_count": 6,
   "id": "a99fd212-ff83-4710-ac5f-ba22d72a2142",
   "metadata": {},
   "outputs": [
    {
     "name": "stdout",
     "output_type": "stream",
     "text": [
      "Number of rows with 'InvalidDate': 0\n"
     ]
    }
   ],
   "source": [
    "# Count the number of rows with 'InvalidDate'\n",
    "invalid_date_count = df['Date_and_time_when_order_was_placed'].value_counts().get('InvalidDate', 0)\n",
    "\n",
    "# Print the count\n",
    "print(f\"Number of rows with 'InvalidDate': {invalid_date_count}\")"
   ]
  },
  {
   "cell_type": "code",
   "execution_count": null,
   "id": "586c410a-e47f-46f6-abf8-037ef5dc47ab",
   "metadata": {},
   "outputs": [],
   "source": []
  }
 ],
 "metadata": {
  "kernelspec": {
   "display_name": "Python 3 (ipykernel)",
   "language": "python",
   "name": "python3"
  },
  "language_info": {
   "codemirror_mode": {
    "name": "ipython",
    "version": 3
   },
   "file_extension": ".py",
   "mimetype": "text/x-python",
   "name": "python",
   "nbconvert_exporter": "python",
   "pygments_lexer": "ipython3",
   "version": "3.10.1"
  }
 },
 "nbformat": 4,
 "nbformat_minor": 5
}
